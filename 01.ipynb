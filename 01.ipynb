{
 "cells": [
  {
   "cell_type": "markdown",
   "id": "21737c2a-e23d-404f-93bd-562c2166292e",
   "metadata": {},
   "source": [
    "## Pytorch Workflow"
   ]
  },
  {
   "cell_type": "code",
   "execution_count": 1,
   "id": "a0c4b3fe-0599-4225-bc4b-a59e39705fe5",
   "metadata": {},
   "outputs": [
    {
     "data": {
      "text/plain": [
       "'2.4.0+cu124'"
      ]
     },
     "execution_count": 1,
     "metadata": {},
     "output_type": "execute_result"
    }
   ],
   "source": [
    "import torch\n",
    "from torch import nn\n",
    "import matplotlib.pyplot as plt\n",
    "\n",
    "##check pytorch version\n",
    "torch.__version__"
   ]
  },
  {
   "cell_type": "code",
   "execution_count": 2,
   "id": "e5b9a6bc-4541-4427-97ab-9116d65723c5",
   "metadata": {},
   "outputs": [],
   "source": [
    "##Data ( preparing and loading )"
   ]
  },
  {
   "cell_type": "code",
   "execution_count": 3,
   "id": "65954020-d2d1-412c-a950-8f07809f32ee",
   "metadata": {},
   "outputs": [
    {
     "data": {
      "text/plain": [
       "(tensor([[0.0000],\n",
       "         [0.0200],\n",
       "         [0.0400],\n",
       "         [0.0600],\n",
       "         [0.0800],\n",
       "         [0.1000],\n",
       "         [0.1200],\n",
       "         [0.1400],\n",
       "         [0.1600],\n",
       "         [0.1800]]),\n",
       " tensor([[0.3000],\n",
       "         [0.3140],\n",
       "         [0.3280],\n",
       "         [0.3420],\n",
       "         [0.3560],\n",
       "         [0.3700],\n",
       "         [0.3840],\n",
       "         [0.3980],\n",
       "         [0.4120],\n",
       "         [0.4260]]))"
      ]
     },
     "execution_count": 3,
     "metadata": {},
     "output_type": "execute_result"
    }
   ],
   "source": [
    "##Create \"known\" parameters\n",
    "weight = 0.7\n",
    "bias = 0.3 \n",
    "\n",
    "#Create data\n",
    "start =0\n",
    "end =1\n",
    "step=0.02\n",
    "\n",
    "X = torch.arange(start,end,step).unsqueeze(dim=1)\n",
    "y = weight * X + bias\n",
    "\n",
    "X[:10],y[:10]"
   ]
  },
  {
   "cell_type": "code",
   "execution_count": 4,
   "id": "160b8a95-397e-4d88-869d-60091aa68eca",
   "metadata": {},
   "outputs": [
    {
     "data": {
      "text/plain": [
       "(40, 40, 10, 10)"
      ]
     },
     "execution_count": 4,
     "metadata": {},
     "output_type": "execute_result"
    }
   ],
   "source": [
    "# Create train/test split\n",
    "train_split = int(0.8 * len(X)) # 80% of data used for training set, 20% for testing \n",
    "X_train, y_train = X[:train_split], y[:train_split]\n",
    "X_test, y_test = X[train_split:], y[train_split:]\n",
    "\n",
    "len(X_train), len(y_train), len(X_test), len(y_test)"
   ]
  },
  {
   "cell_type": "code",
   "execution_count": 5,
   "id": "0bf9e9d4-5d71-4218-b044-3e1bbd205221",
   "metadata": {},
   "outputs": [],
   "source": [
    "def plot_predictions(train_data=X_train, \n",
    "                     train_labels=y_train, \n",
    "                     test_data=X_test, \n",
    "                     test_labels=y_test, \n",
    "                     predictions=None):\n",
    "  \"\"\"\n",
    "  Plots training data, test data and compares predictions.\n",
    "  \"\"\"\n",
    "  plt.figure(figsize=(10, 7))\n",
    "\n",
    "  # Plot training data in blue\n",
    "  plt.scatter(train_data, train_labels, c=\"b\", s=4, label=\"Training data\")\n",
    "  \n",
    "  # Plot test data in green\n",
    "  plt.scatter(test_data, test_labels, c=\"g\", s=4, label=\"Testing data\")\n",
    "\n",
    "  if predictions is not None:\n",
    "    # Plot the predictions in red (predictions were made on the test data)\n",
    "    plt.scatter(test_data, predictions, c=\"r\", s=4, label=\"Predictions\")\n",
    "\n",
    "  # Show the legend\n",
    "  plt.legend(prop={\"size\": 14});"
   ]
  },
  {
   "cell_type": "code",
   "execution_count": 6,
   "id": "dc82dac2-d507-4e0e-8ab2-83b9ec6f3422",
   "metadata": {},
   "outputs": [
    {
     "data": {
      "image/png": "[encoded data removed]",
      "text/plain": [
       "<Figure size 1000x700 with 1 Axes>"
      ]
     },
     "metadata": {},
     "output_type": "display_data"
    }
   ],
   "source": [
    "plot_predictions();"
   ]
  },
  {
   "cell_type": "code",
   "execution_count": 7,
   "id": "a8be820c-45a5-4181-a8f5-04949554b59d",
   "metadata": {},
   "outputs": [],
   "source": [
    "##Build Model"
   ]
  },
  {
   "cell_type": "code",
   "execution_count": 8,
   "id": "e191c5b8-8b74-4563-97d3-b52321bac1ea",
   "metadata": {},
   "outputs": [],
   "source": [
    "class LinearRegressionModel(nn.Module):\n",
    "    def __init__(self):\n",
    "        super().__init__()\n",
    "        self.weights = nn.Parameter(torch.randn(1,\n",
    "                                                dtype=torch.float),\n",
    "                                    requires_grad=True)\n",
    "        self.bias = nn.Parameter(torch.randn(1,\n",
    "                                            dtype=torch.float),\n",
    "                                    requires_grad=True)\n",
    "\n",
    "    ##forward defined the computation in the model\n",
    "    def forward(self,x:torch.Tensor) -> torch.Tensor:\n",
    "        return self.weights * x + self.bias \n"
   ]
  },
  {
   "cell_type": "code",
   "execution_count": 10,
   "id": "35b6e59e-fa91-4ed6-9ccf-bc03f8d88b19",
   "metadata": {},
   "outputs": [
    {
     "data": {
      "text/plain": [
       "<torch._C.Generator at 0x2622cdb5790>"
      ]
     },
     "execution_count": 10,
     "metadata": {},
     "output_type": "execute_result"
    }
   ],
   "source": [
    "torch.manual_seed(42)"
   ]
  },
  {
   "cell_type": "code",
   "execution_count": 11,
   "id": "866a9891-a00e-45d5-a01c-287bf9255154",
   "metadata": {},
   "outputs": [],
   "source": [
    "model_0 = LinearRegressionModel()"
   ]
  },
  {
   "cell_type": "code",
   "execution_count": 12,
   "id": "aedd7261-c03c-484e-9920-117e6c79a834",
   "metadata": {},
   "outputs": [
    {
     "data": {
      "text/plain": [
       "[Parameter containing:\n",
       " tensor([0.3367], requires_grad=True),\n",
       " Parameter containing:\n",
       " tensor([0.1288], requires_grad=True)]"
      ]
     },
     "execution_count": 12,
     "metadata": {},
     "output_type": "execute_result"
    }
   ],
   "source": [
    "list(model_0.parameters())"
   ]
  },
  {
   "cell_type": "code",
   "execution_count": 13,
   "id": "d4269dd0-5e47-49d8-b67e-ffb1f1e29aa9",
   "metadata": {},
   "outputs": [
    {
     "data": {
      "text/plain": [
       "OrderedDict([('weights', tensor([0.3367])), ('bias', tensor([0.1288]))])"
      ]
     },
     "execution_count": 13,
     "metadata": {},
     "output_type": "execute_result"
    }
   ],
   "source": [
    "##List names parameters\n",
    "model_0.state_dict()"
   ]
  },
  {
   "cell_type": "code",
   "execution_count": 14,
   "id": "8c2ce4fc-5607-4169-858c-871a3b3c83a3",
   "metadata": {},
   "outputs": [],
   "source": [
    "##Make prediction with model\n",
    "with torch.inference_mode():\n",
    "    y_preds = model_0(X_test)"
   ]
  },
  {
   "cell_type": "code",
   "execution_count": 15,
   "id": "ad144e10-4c0c-45ff-bdb4-423f1c9a205c",
   "metadata": {},
   "outputs": [
    {
     "name": "stdout",
     "output_type": "stream",
     "text": [
      "tensor([[0.3982],\n",
      "        [0.4049],\n",
      "        [0.4116],\n",
      "        [0.4184],\n",
      "        [0.4251],\n",
      "        [0.4318],\n",
      "        [0.4386],\n",
      "        [0.4453],\n",
      "        [0.4520],\n",
      "        [0.4588]])\n"
     ]
    }
   ],
   "source": [
    "print(y_preds)"
   ]
  },
  {
   "cell_type": "code",
   "execution_count": 18,
   "id": "65d6c4ae-9bb2-4038-ba03-feafc213c9e0",
   "metadata": {},
   "outputs": [
    {
     "name": "stdout",
     "output_type": "stream",
     "text": [
      "Number of testing samples: 10\n",
      "Number of predictions made: 10\n",
      "Predicted values:\n",
      "tensor([[0.3982],\n",
      "        [0.4049],\n",
      "        [0.4116],\n",
      "        [0.4184],\n",
      "        [0.4251],\n",
      "        [0.4318],\n",
      "        [0.4386],\n",
      "        [0.4453],\n",
      "        [0.4520],\n",
      "        [0.4588]])\n"
     ]
    }
   ],
   "source": [
    "# Check the predictions\n",
    "print(f\"Number of testing samples: {len(X_test)}\") \n",
    "print(f\"Number of predictions made: {len(y_preds)}\")\n",
    "print(f\"Predicted values:\\n{y_preds}\")"
   ]
  },
  {
   "cell_type": "code",
   "execution_count": 19,
   "id": "4b483d56-2203-4ea8-89f4-aa555b33abe9",
   "metadata": {},
   "outputs": [
    {
     "data": {
      "image/png": "[encoded data removed]",
      "text/plain": [
       "<Figure size 1000x700 with 1 Axes>"
      ]
     },
     "metadata": {},
     "output_type": "display_data"
    }
   ],
   "source": [
    "plot_predictions(predictions=y_preds)"
   ]
  },
  {
   "cell_type": "code",
   "execution_count": 20,
   "id": "5d61f1b7-d33e-4a1b-92de-0c41099d1256",
   "metadata": {},
   "outputs": [
    {
     "data": {
      "text/plain": [
       "tensor([[0.4618],\n",
       "        [0.4691],\n",
       "        [0.4764],\n",
       "        [0.4836],\n",
       "        [0.4909],\n",
       "        [0.4982],\n",
       "        [0.5054],\n",
       "        [0.5127],\n",
       "        [0.5200],\n",
       "        [0.5272]])"
      ]
     },
     "execution_count": 20,
     "metadata": {},
     "output_type": "execute_result"
    }
   ],
   "source": [
    "y_test - y_preds"
   ]
  },
  {
   "cell_type": "markdown",
   "id": "a71c8c88-a454-4357-a97e-4edfd3319b40",
   "metadata": {},
   "source": [
    "## Train Model"
   ]
  },
  {
   "cell_type": "code",
   "execution_count": 21,
   "id": "ac979fa3-b37f-451e-b478-08dfef9ce3d6",
   "metadata": {},
   "outputs": [],
   "source": [
    "## create the loss function\n",
    "loss_fn = nn.L1Loss() # MAE loss is same as L1Loss\n"
   ]
  },
  {
   "cell_type": "code",
   "execution_count": 22,
   "id": "1fd5711f-84ae-4126-9903-5f031d9908b2",
   "metadata": {},
   "outputs": [],
   "source": [
    "# Create the optimizer\n",
    "optimizer = torch.optim.SGD(params=model_0.parameters(), # parameters of target model to optimize\n",
    "                            lr=0.01) # learning rate (how much the op"
   ]
  },
  {
   "cell_type": "code",
   "execution_count": 23,
   "id": "a8c9f680-73ef-4134-8394-2989feba0b95",
   "metadata": {},
   "outputs": [],
   "source": [
    "## Pytorch Training Loop"
   ]
  },
  {
   "cell_type": "code",
   "execution_count": 28,
   "id": "8fe1059c-b778-48b5-9691-89e28702b184",
   "metadata": {},
   "outputs": [],
   "source": [
    "epochs = 10\n",
    "for epoch in range(epochs):\n",
    "    model_0.train()\n",
    "    y_pred = model_0(X_train)\n",
    "    loss = loss_fn(y_pred,y_train)\n",
    "    optimizer.zero_grad()\n",
    "    loss.backward()\n",
    "    optimizer.step()"
   ]
  },
  {
   "cell_type": "code",
   "execution_count": 29,
   "id": "578a5879-0ed9-4246-a2c9-b21f95d83538",
   "metadata": {},
   "outputs": [],
   "source": [
    "## torch testing loop"
   ]
  },
  {
   "cell_type": "code",
   "execution_count": 78,
   "id": "c5e29209-53bc-4cf5-b72e-f21e3a81b82a",
   "metadata": {},
   "outputs": [
    {
     "name": "stdout",
     "output_type": "stream",
     "text": [
      "Epoch: 0 | MAE Train Loss: 0.007898405194282532 | MAE Test Loss: 0.0008240759489126503 \n",
      "Epoch: 10 | MAE Train Loss: 0.007898405194282532 | MAE Test Loss: 0.0008240759489126503 \n",
      "Epoch: 20 | MAE Train Loss: 0.007898405194282532 | MAE Test Loss: 0.0008240759489126503 \n",
      "Epoch: 30 | MAE Train Loss: 0.007898405194282532 | MAE Test Loss: 0.0008240759489126503 \n",
      "Epoch: 40 | MAE Train Loss: 0.007898405194282532 | MAE Test Loss: 0.0008240759489126503 \n",
      "Epoch: 50 | MAE Train Loss: 0.007898405194282532 | MAE Test Loss: 0.0008240759489126503 \n",
      "Epoch: 60 | MAE Train Loss: 0.007898405194282532 | MAE Test Loss: 0.0008240759489126503 \n",
      "Epoch: 70 | MAE Train Loss: 0.007898405194282532 | MAE Test Loss: 0.0008240759489126503 \n",
      "Epoch: 80 | MAE Train Loss: 0.007898405194282532 | MAE Test Loss: 0.0008240759489126503 \n",
      "Epoch: 90 | MAE Train Loss: 0.007898405194282532 | MAE Test Loss: 0.0008240759489126503 \n"
     ]
    }
   ],
   "source": [
    "torch.manual_seed(42)\n",
    "\n",
    "epochs = 100\n",
    "\n",
    "#create empty loss lists to track values\n",
    "train_loss_values = []\n",
    "test_loss_values = []\n",
    "epoch_count = []\n",
    "\n",
    "for epoch in range(epochs):\n",
    "    #training\n",
    "    model_0.train()\n",
    "\n",
    "    y_pred = model_0(X_train)\n",
    "\n",
    "    #calculate the loss\n",
    "    loss = loss_fn(y_pred,y_train)\n",
    "\n",
    "    ##Zero grad of the optimizer\n",
    "    optimizer.zero_grad()\n",
    "\n",
    "    ##loss backwards\n",
    "    loss.backward()\n",
    "\n",
    "    ##progress the optimizer\n",
    "    optimizer.step()\n",
    "\n",
    "    ##testing\n",
    "\n",
    "    #put model in evaluation mode\n",
    "    model_0.eval()\n",
    "\n",
    "    with torch.inference_mode():\n",
    "        ## forward pass on test data\n",
    "        test_pred = model_0(X_test)\n",
    "\n",
    "        ##calculate loss on the test data\n",
    "        test_loss = loss_fn(test_pred,y_test.type(torch.float))\n",
    "\n",
    "        ##Print out what's happening\n",
    "        if epoch % 10 ==0:\n",
    "            epoch_count.append(epoch)\n",
    "            train_loss_values.append(loss.detach().numpy())\n",
    "            test_loss_values.append(test_loss.detach().numpy())\n",
    "            print(f\"Epoch: {epoch} | MAE Train Loss: {loss} | MAE Test Loss: {test_loss} \")"
   ]
  },
  {
   "cell_type": "code",
   "execution_count": 79,
   "id": "1b43337b-7421-47a4-b8bf-2e20d55ebbb3",
   "metadata": {},
   "outputs": [],
   "source": [
    "##plot the loss curves"
   ]
  },
  {
   "cell_type": "code",
   "execution_count": 80,
   "id": "7460d540-cb6f-4a09-80ac-cfd2edbba49c",
   "metadata": {},
   "outputs": [
    {
     "data": {
      "image/png": "[encoded data removed]",
      "text/plain": [
       "<Figure size 640x480 with 1 Axes>"
      ]
     },
     "metadata": {},
     "output_type": "display_data"
    }
   ],
   "source": [
    "plt.plot(epoch_count, train_loss_values, label=\"Train loss\")\n",
    "plt.plot(epoch_count, test_loss_values, label=\"Test loss\")\n",
    "plt.title(\"Training and test loss curves\")\n",
    "plt.ylabel(\"Loss\")\n",
    "plt.xlabel(\"Epochs\")\n",
    "plt.legend();\n"
   ]
  },
  {
   "cell_type": "code",
   "execution_count": 81,
   "id": "ac5391be-0bab-4979-b0fc-ea4ec7e5a6ff",
   "metadata": {},
   "outputs": [
    {
     "name": "stdout",
     "output_type": "stream",
     "text": [
      "OrderedDict({'weights': tensor([0.6905]), 'bias': tensor([0.2958])})\n",
      "original values\n",
      "wieght: 0.7 , bias: 0.3\n"
     ]
    }
   ],
   "source": [
    "## Find our model's learned parameters\n",
    "print(model_0.state_dict())\n",
    "print(\"original values\")\n",
    "print(f\"wieght: {weight} , bias: {bias}\")"
   ]
  },
  {
   "cell_type": "code",
   "execution_count": 82,
   "id": "2f5cd8a3-d3d2-4568-88d3-2fbb0d9f559f",
   "metadata": {},
   "outputs": [],
   "source": [
    "## Making prediction with trained pytorch model ( inference)"
   ]
  },
  {
   "cell_type": "code",
   "execution_count": 83,
   "id": "0dfe6f62-d314-4f82-beb6-c2bf44193155",
   "metadata": {},
   "outputs": [
    {
     "data": {
      "text/plain": [
       "tensor([[0.8482],\n",
       "        [0.8620],\n",
       "        [0.8758],\n",
       "        [0.8896],\n",
       "        [0.9034],\n",
       "        [0.9173],\n",
       "        [0.9311],\n",
       "        [0.9449],\n",
       "        [0.9587],\n",
       "        [0.9725]])"
      ]
     },
     "execution_count": 83,
     "metadata": {},
     "output_type": "execute_result"
    }
   ],
   "source": [
    "model_0.eval()\n",
    "\n",
    "with torch.inference_mode():\n",
    "    y_preds = model_0(X_test)\n",
    "y_preds"
   ]
  },
  {
   "cell_type": "code",
   "execution_count": 84,
   "id": "f35bf7cb-a0ae-4888-89c9-83f5337e81fb",
   "metadata": {},
   "outputs": [
    {
     "data": {
      "text/plain": [
       "tensor([[0.8600],\n",
       "        [0.8740],\n",
       "        [0.8880],\n",
       "        [0.9020],\n",
       "        [0.9160],\n",
       "        [0.9300],\n",
       "        [0.9440],\n",
       "        [0.9580],\n",
       "        [0.9720],\n",
       "        [0.9860]])"
      ]
     },
     "execution_count": 84,
     "metadata": {},
     "output_type": "execute_result"
    }
   ],
   "source": [
    "y_test"
   ]
  },
  {
   "cell_type": "code",
   "execution_count": 85,
   "id": "4908190d-18e0-4e2a-839d-7436375163df",
   "metadata": {},
   "outputs": [
    {
     "data": {
      "image/png": "[encoded data removed]",
      "text/plain": [
       "<Figure size 1000x700 with 1 Axes>"
      ]
     },
     "metadata": {},
     "output_type": "display_data"
    }
   ],
   "source": [
    "plot_predictions(predictions=y_preds)"
   ]
  },
  {
   "cell_type": "code",
   "execution_count": 51,
   "id": "19a654cc-db8a-4d81-98fd-0415032e4a9b",
   "metadata": {},
   "outputs": [],
   "source": [
    "## Model is overfit"
   ]
  },
  {
   "cell_type": "code",
   "execution_count": 52,
   "id": "fd809103-d8e5-43b7-b78a-38a27e4a1a34",
   "metadata": {},
   "outputs": [],
   "source": [
    "## Saving a pytorch model's state_dict()"
   ]
  },
  {
   "cell_type": "code",
   "execution_count": 86,
   "id": "70a7cc6b-9e31-4dda-b99f-a2f981ea9637",
   "metadata": {},
   "outputs": [
    {
     "name": "stdout",
     "output_type": "stream",
     "text": [
      "saving model to: models\\01_pytorch_workflow_model_0.pth\n"
     ]
    }
   ],
   "source": [
    "from pathlib import Path\n",
    "# create models directory\n",
    "model_path = Path(\"models\")\n",
    "model_path.mkdir(parents=True,exist_ok=True)\n",
    "\n",
    "##create model save path\n",
    "model_name = \"01_pytorch_workflow_model_0.pth\"\n",
    "model_save_path = model_path / model_name\n",
    "\n",
    "##save the model state dict\n",
    "print(f\"saving model to: {model_save_path}\")\n",
    "torch.save(\n",
    "    obj=model_0.state_dict(),\n",
    "    f=model_save_path\n",
    ")"
   ]
  },
  {
   "cell_type": "code",
   "execution_count": 87,
   "id": "e6a7ef27-f372-45a0-856b-404906235a40",
   "metadata": {},
   "outputs": [],
   "source": [
    "## Loading the model"
   ]
  },
  {
   "cell_type": "code",
   "execution_count": 88,
   "id": "b967cd98-c944-4862-949d-42541bb8ae4d",
   "metadata": {},
   "outputs": [
    {
     "name": "stderr",
     "output_type": "stream",
     "text": [
      "C:\\Users\\PC\\AppData\\Local\\Temp\\ipykernel_14332\\3233859529.py:3: FutureWarning: You are using `torch.load` with `weights_only=False` (the current default value), which uses the default pickle module implicitly. It is possible to construct malicious pickle data which will execute arbitrary code during unpickling (See https://github.com/pytorch/pytorch/blob/main/SECURITY.md#untrusted-models for more details). In a future release, the default value for `weights_only` will be flipped to `True`. This limits the functions that could be executed during unpickling. Arbitrary objects will no longer be allowed to be loaded via this mode unless they are explicitly allowlisted by the user via `torch.serialization.add_safe_globals`. We recommend you start setting `weights_only=True` for any use case where you don't have full control of the loaded file. Please open an issue on GitHub for any issues related to this experimental feature.\n",
      "  loaded_model_0.load_state_dict(torch.load(f=model_save_path))\n"
     ]
    },
    {
     "data": {
      "text/plain": [
       "<All keys matched successfully>"
      ]
     },
     "execution_count": 88,
     "metadata": {},
     "output_type": "execute_result"
    }
   ],
   "source": [
    "loaded_model_0 = LinearRegressionModel()\n",
    "##load the state_dict of our saved model\n",
    "loaded_model_0.load_state_dict(torch.load(f=model_save_path))"
   ]
  },
  {
   "cell_type": "code",
   "execution_count": 89,
   "id": "fdca2227-034e-4944-95b0-e6babb841a66",
   "metadata": {},
   "outputs": [],
   "source": [
    "# 1. Put the loaded model into evaluation mode\n",
    "loaded_model_0.eval()\n",
    "\n",
    "# 2. Use the inference mode context manager to make predictions\n",
    "with torch.inference_mode():\n",
    "    loaded_model_preds = loaded_model_0(X_test) # perform a forward "
   ]
  },
  {
   "cell_type": "code",
   "execution_count": 90,
   "id": "9e5889db-aa8b-4a05-a957-c1798ecc657a",
   "metadata": {},
   "outputs": [
    {
     "data": {
      "text/plain": [
       "tensor([[True],\n",
       "        [True],\n",
       "        [True],\n",
       "        [True],\n",
       "        [True],\n",
       "        [True],\n",
       "        [True],\n",
       "        [True],\n",
       "        [True],\n",
       "        [True]])"
      ]
     },
     "execution_count": 90,
     "metadata": {},
     "output_type": "execute_result"
    }
   ],
   "source": [
    "# Compare previous model predictions with loaded model predictions (these should be the same)\n",
    "y_preds == loaded_model_preds"
   ]
  },
  {
   "cell_type": "markdown",
   "id": "6836423d-7d5e-41d7-8f91-b235471eba34",
   "metadata": {},
   "source": [
    "## Second Step"
   ]
  },
  {
   "cell_type": "code",
   "execution_count": 91,
   "id": "2c11cea5-4671-45b3-980f-6371a6164677",
   "metadata": {},
   "outputs": [
    {
     "name": "stdout",
     "output_type": "stream",
     "text": [
      "Using device: cuda\n"
     ]
    }
   ],
   "source": [
    "device = \"cuda\" if torch.cuda.is_available() else \"cpu\"\n",
    "print(f\"Using device: {device}\")"
   ]
  },
  {
   "cell_type": "code",
   "execution_count": 92,
   "id": "9c4043b8-2d89-4469-bb7d-969e3ac84775",
   "metadata": {},
   "outputs": [
    {
     "data": {
      "text/plain": [
       "(tensor([[0.0000],\n",
       "         [0.0200],\n",
       "         [0.0400],\n",
       "         [0.0600],\n",
       "         [0.0800],\n",
       "         [0.1000],\n",
       "         [0.1200],\n",
       "         [0.1400],\n",
       "         [0.1600],\n",
       "         [0.1800]]),\n",
       " tensor([[0.3000],\n",
       "         [0.3140],\n",
       "         [0.3280],\n",
       "         [0.3420],\n",
       "         [0.3560],\n",
       "         [0.3700],\n",
       "         [0.3840],\n",
       "         [0.3980],\n",
       "         [0.4120],\n",
       "         [0.4260]]))"
      ]
     },
     "execution_count": 92,
     "metadata": {},
     "output_type": "execute_result"
    }
   ],
   "source": [
    "# Create weight and bias\n",
    "weight = 0.7\n",
    "bias = 0.3\n",
    "\n",
    "# Create range values\n",
    "start = 0\n",
    "end = 1\n",
    "step = 0.02\n",
    "\n",
    "# Create X and y (features and labels)\n",
    "X = torch.arange(start, end, step).unsqueeze(dim=1) # without unsqueeze, errors will happen later on (shapes within linear layers)\n",
    "y = weight * X + bias \n",
    "X[:10], y[:10]"
   ]
  },
  {
   "cell_type": "code",
   "execution_count": 93,
   "id": "3af4a4e5-6d87-4fc2-a560-3a119f75bc8a",
   "metadata": {},
   "outputs": [
    {
     "data": {
      "text/plain": [
       "(40, 40, 10, 10)"
      ]
     },
     "execution_count": 93,
     "metadata": {},
     "output_type": "execute_result"
    }
   ],
   "source": [
    "# Split data\n",
    "train_split = int(0.8 * len(X))\n",
    "X_train, y_train = X[:train_split], y[:train_split]\n",
    "X_test, y_test = X[train_split:], y[train_split:]\n",
    "\n",
    "len(X_train), len(y_train), len(X_test), len(y_test)"
   ]
  },
  {
   "cell_type": "code",
   "execution_count": 94,
   "id": "472ef357-90f4-4a48-8257-9dce3def7f40",
   "metadata": {},
   "outputs": [
    {
     "data": {
      "image/png": "[encoded data removed]",
      "text/plain": [
       "<Figure size 1000x700 with 1 Axes>"
      ]
     },
     "metadata": {},
     "output_type": "display_data"
    }
   ],
   "source": [
    "# Note: If you've reset your runtime, this function won't work, \n",
    "# you'll have to rerun the cell above where it's instantiated.\n",
    "plot_predictions(X_train, y_train, X_test, y_test)"
   ]
  },
  {
   "cell_type": "code",
   "execution_count": 95,
   "id": "d191d14a-8689-48d9-b301-8dff578e04f0",
   "metadata": {},
   "outputs": [
    {
     "data": {
      "text/plain": [
       "(LinearRegressionModelV2(\n",
       "   (linear_layer): Linear(in_features=1, out_features=1, bias=True)\n",
       " ),\n",
       " OrderedDict([('linear_layer.weight', tensor([[0.7645]])),\n",
       "              ('linear_layer.bias', tensor([0.8300]))]))"
      ]
     },
     "execution_count": 95,
     "metadata": {},
     "output_type": "execute_result"
    }
   ],
   "source": [
    "##Subclasss nn.Module to make out model\n",
    "class LinearRegressionModelV2(nn.Module):\n",
    "    def __init__(self):\n",
    "        super().__init__()\n",
    "        ##use nn.linear()\n",
    "        self.linear_layer = nn.Linear(in_features=1,\n",
    "                                      out_features=1)\n",
    "    ##define the forward computation\n",
    "    def forward(self,x:torch.Tensor) -> torch.Tensor:\n",
    "        return self.linear_layer(x)\n",
    "\n",
    "##set the manual seed when creating the model\n",
    "torch.manual_seed(42)\n",
    "model_1 = LinearRegressionModelV2()\n",
    "model_1,model_1 .state_dict()\n"
   ]
  },
  {
   "cell_type": "code",
   "execution_count": 96,
   "id": "bb130015-45cf-47f6-a5bd-8328be90ce36",
   "metadata": {},
   "outputs": [
    {
     "data": {
      "text/plain": [
       "device(type='cpu')"
      ]
     },
     "execution_count": 96,
     "metadata": {},
     "output_type": "execute_result"
    }
   ],
   "source": [
    "##check model device\n",
    "next(model_1.parameters()).device"
   ]
  },
  {
   "cell_type": "code",
   "execution_count": 98,
   "id": "2e066412-eed3-40a7-b83e-993d391d2fd9",
   "metadata": {},
   "outputs": [
    {
     "data": {
      "text/plain": [
       "LinearRegressionModelV2(\n",
       "  (linear_layer): Linear(in_features=1, out_features=1, bias=True)\n",
       ")"
      ]
     },
     "execution_count": 98,
     "metadata": {},
     "output_type": "execute_result"
    }
   ],
   "source": [
    "## Set model to GPU if available\n",
    "model_1.to(device)"
   ]
  },
  {
   "cell_type": "code",
   "execution_count": 99,
   "id": "b9c8d5f3-58cb-4b50-aa57-3ed9a545a835",
   "metadata": {},
   "outputs": [
    {
     "data": {
      "text/plain": [
       "device(type='cuda', index=0)"
      ]
     },
     "execution_count": 99,
     "metadata": {},
     "output_type": "execute_result"
    }
   ],
   "source": [
    "next(model_1.parameters()).device"
   ]
  },
  {
   "cell_type": "code",
   "execution_count": 100,
   "id": "1a7ad4e8-c1d4-4fe2-b87d-317b37aecfdd",
   "metadata": {},
   "outputs": [],
   "source": [
    "##Training the model"
   ]
  },
  {
   "cell_type": "code",
   "execution_count": 101,
   "id": "1cfa631c-584e-4564-b0fb-7ee41c6f0d7e",
   "metadata": {},
   "outputs": [],
   "source": [
    "# Create loss function\n",
    "loss_fn = nn.L1Loss()\n",
    "\n",
    "# Create optimizer\n",
    "optimizer = torch.optim.SGD(params=model_1.parameters(), # optimize newly created model's parameters\n",
    "                            lr=0.01)"
   ]
  },
  {
   "cell_type": "code",
   "execution_count": 103,
   "id": "d8937ecf-667f-4b78-b52e-2e44a95d1b4f",
   "metadata": {},
   "outputs": [
    {
     "name": "stdout",
     "output_type": "stream",
     "text": [
      "Epochs:0 | train loss: 0.5551779866218567 | Test Loss: 0.5739762187004089\n",
      "Epochs:100 | train loss: 0.006215683650225401 | Test Loss: 0.014086711220443249\n",
      "Epochs:200 | train loss: 0.0012645035749301314 | Test Loss: 0.013801801018416882\n",
      "Epochs:300 | train loss: 0.0012645035749301314 | Test Loss: 0.013801801018416882\n",
      "Epochs:400 | train loss: 0.0012645035749301314 | Test Loss: 0.013801801018416882\n",
      "Epochs:500 | train loss: 0.0012645035749301314 | Test Loss: 0.013801801018416882\n",
      "Epochs:600 | train loss: 0.0012645035749301314 | Test Loss: 0.013801801018416882\n",
      "Epochs:700 | train loss: 0.0012645035749301314 | Test Loss: 0.013801801018416882\n",
      "Epochs:800 | train loss: 0.0012645035749301314 | Test Loss: 0.013801801018416882\n",
      "Epochs:900 | train loss: 0.0012645035749301314 | Test Loss: 0.013801801018416882\n"
     ]
    }
   ],
   "source": [
    "torch.manual_seed(42)\n",
    "\n",
    "epochs =1000\n",
    "\n",
    "X_train = X_train.to(device)\n",
    "X_test = X_test.to(device)\n",
    "y_train = y_train.to(device)\n",
    "y_test = y_test.to(device)\n",
    "\n",
    "for epoch in range(epochs):\n",
    "    model_1.train()\n",
    "\n",
    "    #forward pass\n",
    "    y_pred = model_1(X_train)\n",
    "\n",
    "    #calculate loss\n",
    "    loss = loss_fn(y_pred,y_train)\n",
    "\n",
    "    optimizer.zero_grad()\n",
    "\n",
    "    loss.backward()\n",
    "\n",
    "    optimizer.step()\n",
    "\n",
    "    ##testing \n",
    "    model_1.eval()\n",
    "\n",
    "    ##forward pass\n",
    "    with torch.inference_mode():\n",
    "        test_pred = model_1(X_test)\n",
    "        #calculate the loss\n",
    "        test_loss = loss_fn(test_pred,y_test)\n",
    "    if epoch % 100 == 0 :\n",
    "        print(f\"Epochs:{epoch} | train loss: {loss} | Test Loss: {test_loss}\")\n",
    "        "
   ]
  },
  {
   "cell_type": "code",
   "execution_count": 104,
   "id": "d0245f52-a945-49df-b158-d6b16f38aab8",
   "metadata": {},
   "outputs": [
    {
     "name": "stdout",
     "output_type": "stream",
     "text": [
      "The model learned the following values for weights and bias:\n",
      "OrderedDict([('linear_layer.weight', tensor([[0.6968]], device='cuda:0')),\n",
      "             ('linear_layer.bias', tensor([0.3025], device='cuda:0'))])\n",
      "\n",
      "And the original values for weights and bias are:\n",
      "weights: 0.7, bias: 0.3\n"
     ]
    }
   ],
   "source": [
    "# Find our model's learned parameters\n",
    "from pprint import pprint # pprint = pretty print, see: https://docs.python.org/3/library/pprint.html \n",
    "print(\"The model learned the following values for weights and bias:\")\n",
    "pprint(model_1.state_dict())\n",
    "print(\"\\nAnd the original values for weights and bias are:\")\n",
    "print(f\"weights: {weight}, bias: {bias}\")"
   ]
  },
  {
   "cell_type": "code",
   "execution_count": 105,
   "id": "da42a1d9-1b55-4296-bc47-007c4f1d67e5",
   "metadata": {},
   "outputs": [
    {
     "data": {
      "text/plain": [
       "tensor([[0.8600],\n",
       "        [0.8739],\n",
       "        [0.8878],\n",
       "        [0.9018],\n",
       "        [0.9157],\n",
       "        [0.9296],\n",
       "        [0.9436],\n",
       "        [0.9575],\n",
       "        [0.9714],\n",
       "        [0.9854]], device='cuda:0')"
      ]
     },
     "execution_count": 105,
     "metadata": {},
     "output_type": "execute_result"
    }
   ],
   "source": [
    "# Turn model into evaluation mode\n",
    "model_1.eval()\n",
    "\n",
    "# Make predictions on the test data\n",
    "with torch.inference_mode():\n",
    "    y_preds = model_1(X_test)\n",
    "y_preds"
   ]
  },
  {
   "cell_type": "code",
   "execution_count": 106,
   "id": "8d0c8cec-5ed0-46ba-a1e4-80a5296719c0",
   "metadata": {},
   "outputs": [
    {
     "data": {
      "image/png": "[encoded data removed]",
      "text/plain": [
       "<Figure size 1000x700 with 1 Axes>"
      ]
     },
     "metadata": {},
     "output_type": "display_data"
    }
   ],
   "source": [
    "plot_predictions(predictions=y_preds.cpu())"
   ]
  },
  {
   "cell_type": "code",
   "execution_count": 107,
   "id": "98164164-cdc5-499f-bb4a-9e24c8f72681",
   "metadata": {},
   "outputs": [],
   "source": [
    "## Saving and Loading the model"
   ]
  },
  {
   "cell_type": "code",
   "execution_count": 109,
   "id": "947cba88-799c-447e-a9f5-471009483f4d",
   "metadata": {},
   "outputs": [
    {
     "name": "stdout",
     "output_type": "stream",
     "text": [
      "saving model to:models\\01_pytorch_workflow_model_1.pth\n"
     ]
    }
   ],
   "source": [
    "from pathlib import Path\n",
    "\n",
    "## 1 . create model directory\n",
    "MODEL_PATH = Path(\"models\")\n",
    "MODEL_PATH.mkdir(parents=True,exist_ok=True)\n",
    "\n",
    "#2. create model save path \n",
    "MODEL_NAME = \"01_pytorch_workflow_model_1.pth\"\n",
    "MODEL_SAVE_PATH = MODEL_PATH/MODEL_NAME\n",
    "\n",
    "#3 save the model state dict\n",
    "print(f\"saving model to:{MODEL_SAVE_PATH}\")\n",
    "torch.save(obj=model_1.state_dict(),\n",
    "           f=MODEL_SAVE_PATH)\n",
    "\n",
    "\n"
   ]
  },
  {
   "cell_type": "code",
   "execution_count": 110,
   "id": "5674dd86-16fd-4241-993d-a2cff727e0a2",
   "metadata": {},
   "outputs": [
    {
     "name": "stdout",
     "output_type": "stream",
     "text": [
      "Loaded model:\n",
      "LinearRegressionModelV2(\n",
      "  (linear_layer): Linear(in_features=1, out_features=1, bias=True)\n",
      ")\n",
      "Model on device:\n",
      "cuda:0\n"
     ]
    },
    {
     "name": "stderr",
     "output_type": "stream",
     "text": [
      "C:\\Users\\PC\\AppData\\Local\\Temp\\ipykernel_14332\\2631515358.py:5: FutureWarning: You are using `torch.load` with `weights_only=False` (the current default value), which uses the default pickle module implicitly. It is possible to construct malicious pickle data which will execute arbitrary code during unpickling (See https://github.com/pytorch/pytorch/blob/main/SECURITY.md#untrusted-models for more details). In a future release, the default value for `weights_only` will be flipped to `True`. This limits the functions that could be executed during unpickling. Arbitrary objects will no longer be allowed to be loaded via this mode unless they are explicitly allowlisted by the user via `torch.serialization.add_safe_globals`. We recommend you start setting `weights_only=True` for any use case where you don't have full control of the loaded file. Please open an issue on GitHub for any issues related to this experimental feature.\n",
      "  loaded_model_1.load_state_dict(torch.load(MODEL_SAVE_PATH))\n"
     ]
    }
   ],
   "source": [
    "# Instantiate a fresh instance of LinearRegressionModelV2\n",
    "loaded_model_1 = LinearRegressionModelV2()\n",
    "\n",
    "# Load model state dict \n",
    "loaded_model_1.load_state_dict(torch.load(MODEL_SAVE_PATH))\n",
    "\n",
    "# Put model to target device (if your data is on GPU, model will have to be on GPU to make predictions)\n",
    "loaded_model_1.to(device)\n",
    "\n",
    "print(f\"Loaded model:\\n{loaded_model_1}\")\n",
    "print(f\"Model on device:\\n{next(loaded_model_1.parameters()).device}\")"
   ]
  },
  {
   "cell_type": "code",
   "execution_count": 111,
   "id": "39ad5eb0-8f4b-43a5-b686-98b3560da87d",
   "metadata": {},
   "outputs": [
    {
     "data": {
      "text/plain": [
       "tensor([[True],\n",
       "        [True],\n",
       "        [True],\n",
       "        [True],\n",
       "        [True],\n",
       "        [True],\n",
       "        [True],\n",
       "        [True],\n",
       "        [True],\n",
       "        [True]], device='cuda:0')"
      ]
     },
     "execution_count": 111,
     "metadata": {},
     "output_type": "execute_result"
    }
   ],
   "source": [
    "# Evaluate loaded model\n",
    "loaded_model_1.eval()\n",
    "with torch.inference_mode():\n",
    "    loaded_model_1_preds = loaded_model_1(X_test)\n",
    "y_preds == loaded_model_1_preds"
   ]
  },
  {
   "cell_type": "code",
   "execution_count": 112,
   "id": "2f997b75-c9ee-48cc-a699-c3b609e7af58",
   "metadata": {},
   "outputs": [],
   "source": [
    "## 02 Pytorch Classification"
   ]
  },
  {
   "cell_type": "code",
   "execution_count": 113,
   "id": "6eab9487-b49c-4f21-a844-a7950d3fc5e0",
   "metadata": {},
   "outputs": [],
   "source": [
    "from sklearn.datasets import make_circles\n",
    "##make 1000 samples\n",
    "n_samples = 1000\n",
    "\n",
    "X,y= make_circles(\n",
    "    n_samples,\n",
    "    noise=0.03,\n",
    "    random_state=42\n",
    ")"
   ]
  },
  {
   "cell_type": "code",
   "execution_count": 114,
   "id": "a14794ea-35cc-434d-889a-b5f166945f39",
   "metadata": {},
   "outputs": [
    {
     "data": {
      "text/plain": [
       "array([[ 0.75424625,  0.23148074],\n",
       "       [-0.75615888,  0.15325888],\n",
       "       [-0.81539193,  0.17328203],\n",
       "       [-0.39373073,  0.69288277],\n",
       "       [ 0.44220765, -0.89672343]])"
      ]
     },
     "execution_count": 114,
     "metadata": {},
     "output_type": "execute_result"
    }
   ],
   "source": [
    "X[:5]"
   ]
  },
  {
   "cell_type": "code",
   "execution_count": 115,
   "id": "b84f64cb-1487-41ec-908b-253842af6bed",
   "metadata": {},
   "outputs": [
    {
     "data": {
      "text/plain": [
       "array([1, 1, 1, 1, 0], dtype=int64)"
      ]
     },
     "execution_count": 115,
     "metadata": {},
     "output_type": "execute_result"
    }
   ],
   "source": [
    "y[:5]"
   ]
  },
  {
   "cell_type": "code",
   "execution_count": 116,
   "id": "6ee91774-aaed-4840-9e03-d655de881205",
   "metadata": {},
   "outputs": [],
   "source": [
    "##pandas as pd\n",
    "import pandas as pd \n",
    "circles = pd.DataFrame({\"X1\":X[:,0],\n",
    "                       \"X2\":X[:,1],\n",
    "                       \"label\":y})"
   ]
  },
  {
   "cell_type": "code",
   "execution_count": 117,
   "id": "03f2eab4-7ae0-4303-8e88-54ce2d59bc79",
   "metadata": {},
   "outputs": [
    {
     "data": {
      "text/html": [
       "<div>\n",
       "<style scoped>\n",
       "    .dataframe tbody tr th:only-of-type {\n",
       "        vertical-align: middle;\n",
       "    }\n",
       "\n",
       "    .dataframe tbody tr th {\n",
       "        vertical-align: top;\n",
       "    }\n",
       "\n",
       "    .dataframe thead th {\n",
       "        text-align: right;\n",
       "    }\n",
       "</style>\n",
       "<table border=\"1\" class=\"dataframe\">\n",
       "  <thead>\n",
       "    <tr style=\"text-align: right;\">\n",
       "      <th></th>\n",
       "      <th>X1</th>\n",
       "      <th>X2</th>\n",
       "      <th>label</th>\n",
       "    </tr>\n",
       "  </thead>\n",
       "  <tbody>\n",
       "    <tr>\n",
       "      <th>0</th>\n",
       "      <td>0.754246</td>\n",
       "      <td>0.231481</td>\n",
       "      <td>1</td>\n",
       "    </tr>\n",
       "    <tr>\n",
       "      <th>1</th>\n",
       "      <td>-0.756159</td>\n",
       "      <td>0.153259</td>\n",
       "      <td>1</td>\n",
       "    </tr>\n",
       "    <tr>\n",
       "      <th>2</th>\n",
       "      <td>-0.815392</td>\n",
       "      <td>0.173282</td>\n",
       "      <td>1</td>\n",
       "    </tr>\n",
       "    <tr>\n",
       "      <th>3</th>\n",
       "      <td>-0.393731</td>\n",
       "      <td>0.692883</td>\n",
       "      <td>1</td>\n",
       "    </tr>\n",
       "    <tr>\n",
       "      <th>4</th>\n",
       "      <td>0.442208</td>\n",
       "      <td>-0.896723</td>\n",
       "      <td>0</td>\n",
       "    </tr>\n",
       "    <tr>\n",
       "      <th>5</th>\n",
       "      <td>-0.479646</td>\n",
       "      <td>0.676435</td>\n",
       "      <td>1</td>\n",
       "    </tr>\n",
       "    <tr>\n",
       "      <th>6</th>\n",
       "      <td>-0.013648</td>\n",
       "      <td>0.803349</td>\n",
       "      <td>1</td>\n",
       "    </tr>\n",
       "    <tr>\n",
       "      <th>7</th>\n",
       "      <td>0.771513</td>\n",
       "      <td>0.147760</td>\n",
       "      <td>1</td>\n",
       "    </tr>\n",
       "    <tr>\n",
       "      <th>8</th>\n",
       "      <td>-0.169322</td>\n",
       "      <td>-0.793456</td>\n",
       "      <td>1</td>\n",
       "    </tr>\n",
       "    <tr>\n",
       "      <th>9</th>\n",
       "      <td>-0.121486</td>\n",
       "      <td>1.021509</td>\n",
       "      <td>0</td>\n",
       "    </tr>\n",
       "  </tbody>\n",
       "</table>\n",
       "</div>"
      ],
      "text/plain": [
       "         X1        X2  label\n",
       "0  0.754246  0.231481      1\n",
       "1 -0.756159  0.153259      1\n",
       "2 -0.815392  0.173282      1\n",
       "3 -0.393731  0.692883      1\n",
       "4  0.442208 -0.896723      0\n",
       "5 -0.479646  0.676435      1\n",
       "6 -0.013648  0.803349      1\n",
       "7  0.771513  0.147760      1\n",
       "8 -0.169322 -0.793456      1\n",
       "9 -0.121486  1.021509      0"
      ]
     },
     "execution_count": 117,
     "metadata": {},
     "output_type": "execute_result"
    }
   ],
   "source": [
    "circles.head(10)"
   ]
  },
  {
   "cell_type": "code",
   "execution_count": 119,
   "id": "f465ae6b-fc7e-47f2-be4e-f9ab53b60e04",
   "metadata": {},
   "outputs": [
    {
     "data": {
      "text/plain": [
       "label\n",
       "1    500\n",
       "0    500\n",
       "Name: count, dtype: int64"
      ]
     },
     "execution_count": 119,
     "metadata": {},
     "output_type": "execute_result"
    }
   ],
   "source": [
    "circles.label.value_counts()"
   ]
  },
  {
   "cell_type": "code",
   "execution_count": 122,
   "id": "896e7481-1143-4a03-9052-5b8dafd60b64",
   "metadata": {},
   "outputs": [
    {
     "data": {
      "image/png": "[encoded data removed]",
      "text/plain": [
       "<Figure size 640x480 with 1 Axes>"
      ]
     },
     "metadata": {},
     "output_type": "display_data"
    }
   ],
   "source": [
    "##visualize with a plot\n",
    "import  matplotlib.pyplot as plt\n",
    "plt.scatter(\n",
    "    x=X[:,0],\n",
    "    y=X[:,1],\n",
    "    c=y,\n",
    "    cmap=plt.cm.RdYlBu);\n"
   ]
  },
  {
   "cell_type": "code",
   "execution_count": 123,
   "id": "e84119ad-cf7e-47ab-9e6e-98de1d81a953",
   "metadata": {},
   "outputs": [],
   "source": [
    "##Input and Output shapes"
   ]
  },
  {
   "cell_type": "code",
   "execution_count": 124,
   "id": "255313e4-6e68-4046-9f73-037edc98a127",
   "metadata": {},
   "outputs": [
    {
     "data": {
      "text/plain": [
       "((1000, 2), (1000,))"
      ]
     },
     "execution_count": 124,
     "metadata": {},
     "output_type": "execute_result"
    }
   ],
   "source": [
    "X.shape,y.shape"
   ]
  },
  {
   "cell_type": "code",
   "execution_count": 125,
   "id": "32e18ee2-b163-4cc1-a38c-168ad9ad731d",
   "metadata": {},
   "outputs": [
    {
     "name": "stdout",
     "output_type": "stream",
     "text": [
      " Values for one sample of x: [0.75424625 0.23148074],and the same for y: 1\n",
      " Shape for one sample of x:(2,),and the same for y: ()\n"
     ]
    }
   ],
   "source": [
    "## View the first example of features and labels\n",
    "X_sample = X[0]\n",
    "y_sample = y[0]\n",
    "\n",
    "print(f\" Values for one sample of x: {X_sample},and the same for y: {y_sample}\")\n",
    "print(f\" Shape for one sample of x:{X_sample.shape},and the same for y: {y_sample.shape}\")"
   ]
  },
  {
   "cell_type": "code",
   "execution_count": 126,
   "id": "4a541719-0387-4cb9-b150-7ba503ae534d",
   "metadata": {},
   "outputs": [],
   "source": [
    "##Turn data into tensors and create train and test splits"
   ]
  },
  {
   "cell_type": "code",
   "execution_count": 127,
   "id": "e2e40f49-ca22-45e0-93a5-b7b7e7e7629b",
   "metadata": {},
   "outputs": [],
   "source": [
    "import torch\n",
    "X  = torch.from_numpy(X).type(torch.float)\n",
    "y = torch.from_numpy(y).type(torch.float)"
   ]
  },
  {
   "cell_type": "code",
   "execution_count": 128,
   "id": "dcb4c407-f79b-4c78-88d2-a58da82a834d",
   "metadata": {},
   "outputs": [
    {
     "data": {
      "text/plain": [
       "tensor([1., 1., 1., 1., 0.])"
      ]
     },
     "execution_count": 128,
     "metadata": {},
     "output_type": "execute_result"
    }
   ],
   "source": [
    "X[:5]\n"
   ]
  },
  {
   "cell_type": "code",
   "execution_count": 129,
   "id": "dbe0fb12-9998-42fc-88b1-6bb85e4da51e",
   "metadata": {},
   "outputs": [
    {
     "data": {
      "text/plain": [
       "tensor([1., 1., 1., 1., 0.])"
      ]
     },
     "execution_count": 129,
     "metadata": {},
     "output_type": "execute_result"
    }
   ],
   "source": [
    "y[:5]"
   ]
  },
  {
   "cell_type": "code",
   "execution_count": 130,
   "id": "c4fe5b0d-3dd1-43d5-a3f4-29a4ab6a281b",
   "metadata": {},
   "outputs": [],
   "source": [
    "from sklearn.model_selection import train_test_split\n",
    "X_train,X_test,y_train,y_test = train_test_split(\n",
    "    X,\n",
    "    y,\n",
    "    test_size=0.2,\n",
    "    random_state=42\n",
    ")"
   ]
  },
  {
   "cell_type": "code",
   "execution_count": 131,
   "id": "343c5836-ab16-4add-aac5-84bcd861bbdf",
   "metadata": {},
   "outputs": [
    {
     "data": {
      "text/plain": [
       "(800, 200, 800, 200)"
      ]
     },
     "execution_count": 131,
     "metadata": {},
     "output_type": "execute_result"
    }
   ],
   "source": [
    "len(X_train),len(X_test),len(y_train),len(y_test)"
   ]
  },
  {
   "cell_type": "code",
   "execution_count": 132,
   "id": "4df520f6-51ab-4e15-a1d5-ac2491e73e25",
   "metadata": {},
   "outputs": [],
   "source": [
    "###Building a model"
   ]
  },
  {
   "cell_type": "code",
   "execution_count": 133,
   "id": "6506037a-4745-461d-9af3-f41eeb186e2a",
   "metadata": {},
   "outputs": [
    {
     "data": {
      "text/plain": [
       "'cuda'"
      ]
     },
     "execution_count": 133,
     "metadata": {},
     "output_type": "execute_result"
    }
   ],
   "source": [
    "import torch\n",
    "from torch import nn\n",
    "\n",
    "device = 'cuda' if torch.cuda.is_available() else 'cpu'\n",
    "device"
   ]
  },
  {
   "cell_type": "markdown",
   "id": "3e78abc7-9a4f-4967-ada8-c08864c0f8e8",
   "metadata": {},
   "source": [
    "## Making the model"
   ]
  },
  {
   "cell_type": "code",
   "execution_count": 136,
   "id": "d4b10996-07aa-45f1-a532-41af1f829182",
   "metadata": {},
   "outputs": [
    {
     "data": {
      "text/plain": [
       "CircleModelV0(\n",
       "  (layer_1): Linear(in_features=2, out_features=5, bias=True)\n",
       "  (layer_2): Linear(in_features=5, out_features=1, bias=True)\n",
       ")"
      ]
     },
     "execution_count": 136,
     "metadata": {},
     "output_type": "execute_result"
    }
   ],
   "source": [
    "class CircleModelV0(nn.Module):\n",
    "    def __init__(self):\n",
    "        super().__init__()\n",
    "        #create 2 nn linear layers\n",
    "        self.layer_1 = nn.Linear(in_features=2,out_features=5)\n",
    "        self.layer_2 = nn.Linear(in_features=5,out_features=1)\n",
    "\n",
    "    def forward(self,x):\n",
    "        return self.layer_2(self.layer_1(x))\n",
    "\n",
    "##create an instance of model and send it to target device\n",
    "model_0 = CircleModelV0().to(device)\n",
    "model_0"
   ]
  },
  {
   "cell_type": "markdown",
   "id": "426184f1-6fda-4c3b-9ec1-21475b2f4676",
   "metadata": {},
   "source": [
    "## Creating with Sequential Model"
   ]
  },
  {
   "cell_type": "code",
   "execution_count": 138,
   "id": "1fff2e6b-9fb3-4015-934a-eee309bf6903",
   "metadata": {},
   "outputs": [
    {
     "data": {
      "text/plain": [
       "Sequential(\n",
       "  (0): Linear(in_features=2, out_features=5, bias=True)\n",
       "  (1): Linear(in_features=5, out_features=1, bias=True)\n",
       ")"
      ]
     },
     "execution_count": 138,
     "metadata": {},
     "output_type": "execute_result"
    }
   ],
   "source": [
    "model_0 = nn.Sequential(\n",
    "    nn.Linear(in_features=2,out_features=5),\n",
    "    nn.Linear(in_features=5,out_features=1)\n",
    ").to(device)\n",
    "\n",
    "model_0\n"
   ]
  },
  {
   "cell_type": "code",
   "execution_count": 139,
   "id": "c486f03c-a33b-4338-bbf4-65465753701c",
   "metadata": {},
   "outputs": [
    {
     "name": "stdout",
     "output_type": "stream",
     "text": [
      "Length of predictions: 200, Shape: torch.Size([200, 1])\n",
      "Length of test samples: 200, Shape: torch.Size([200])\n",
      "\n",
      "First 10 predictions:\n",
      "tensor([[0.6114],\n",
      "        [0.6168],\n",
      "        [0.5807],\n",
      "        [0.6201],\n",
      "        [0.5544],\n",
      "        [0.5579],\n",
      "        [0.5939],\n",
      "        [0.5800],\n",
      "        [0.5819],\n",
      "        [0.6168]], device='cuda:0', grad_fn=<SliceBackward0>)\n",
      "\n",
      "First 10 test labels:\n",
      "tensor([1., 0., 1., 0., 1., 1., 0., 0., 1., 0.])\n"
     ]
    }
   ],
   "source": [
    "# Make predictions with the model\n",
    "untrained_preds = model_0(X_test.to(device))\n",
    "print(f\"Length of predictions: {len(untrained_preds)}, Shape: {untrained_preds.shape}\")\n",
    "print(f\"Length of test samples: {len(y_test)}, Shape: {y_test.shape}\")\n",
    "print(f\"\\nFirst 10 predictions:\\n{untrained_preds[:10]}\")\n",
    "print(f\"\\nFirst 10 test labels:\\n{y_test[:10]}\")"
   ]
  },
  {
   "cell_type": "code",
   "execution_count": 140,
   "id": "1b579dd5-d2ca-4b95-85c2-208e623ffe38",
   "metadata": {},
   "outputs": [],
   "source": [
    "## Setup Loss and Optimizer Function"
   ]
  },
  {
   "cell_type": "code",
   "execution_count": 141,
   "id": "23ca7d90-8b76-42e4-bcf8-c61da38f7fa4",
   "metadata": {},
   "outputs": [],
   "source": [
    "loss_fn = nn.BCEWithLogitsLoss()\n",
    "\n",
    "optimizer = torch.optim.SGD(params=model_0.parameters(),\n",
    "                            lr=0.1)"
   ]
  },
  {
   "cell_type": "code",
   "execution_count": 142,
   "id": "e355236a-415c-4b0f-b418-e8b7f71b1f32",
   "metadata": {},
   "outputs": [],
   "source": [
    "def accuracy_fn(y_true,y_pred):\n",
    "    correct = torch.eq(y_true,y_pred).sum().item()\n",
    "    acc = (correct / len(y_pred))*100\n",
    "    return acc"
   ]
  },
  {
   "cell_type": "code",
   "execution_count": 143,
   "id": "190eb6b5-e6c1-419a-b74b-2b726fce8d8a",
   "metadata": {},
   "outputs": [],
   "source": [
    "## Train model"
   ]
  },
  {
   "cell_type": "code",
   "execution_count": 144,
   "id": "b462a4a4-676f-415f-ab27-f09ade2d0c0e",
   "metadata": {},
   "outputs": [
    {
     "data": {
      "text/plain": [
       "tensor([[0.6114],\n",
       "        [0.6168],\n",
       "        [0.5807],\n",
       "        [0.6201],\n",
       "        [0.5544]], device='cuda:0', grad_fn=<SliceBackward0>)"
      ]
     },
     "execution_count": 144,
     "metadata": {},
     "output_type": "execute_result"
    }
   ],
   "source": [
    "y_logits = model_0(X_test.to(device))[:5]\n",
    "y_logits"
   ]
  },
  {
   "cell_type": "code",
   "execution_count": 145,
   "id": "b884d981-5d99-45d1-8b51-35692b61c96c",
   "metadata": {},
   "outputs": [
    {
     "data": {
      "text/plain": [
       "tensor([[0.6483],\n",
       "        [0.6495],\n",
       "        [0.6412],\n",
       "        [0.6502],\n",
       "        [0.6352]], device='cuda:0', grad_fn=<SigmoidBackward0>)"
      ]
     },
     "execution_count": 145,
     "metadata": {},
     "output_type": "execute_result"
    }
   ],
   "source": [
    "## Use sigmoid\n",
    "y_pred_probs = torch.sigmoid(y_logits)\n",
    "y_pred_probs"
   ]
  },
  {
   "cell_type": "code",
   "execution_count": 147,
   "id": "f7be1f05-249d-410c-877e-3fa3439a0f30",
   "metadata": {},
   "outputs": [
    {
     "name": "stdout",
     "output_type": "stream",
     "text": [
      "tensor([True, True, True, True, True], device='cuda:0')\n"
     ]
    }
   ],
   "source": [
    "##Find the predicted labels\n",
    "y_preds = torch.round(y_pred_probs)\n",
    "\n",
    "## in full\n",
    "y_pred_labels = torch.round(torch.sigmoid(model_0(X_test.to(device)[:5])))\n",
    "\n",
    "##check for equality\n",
    "print(torch.eq(y_preds.squeeze(),y_pred_labels.squeeze()))"
   ]
  },
  {
   "cell_type": "code",
   "execution_count": 148,
   "id": "8d5be910-d4aa-442a-bcf5-1b56a34e2fce",
   "metadata": {},
   "outputs": [
    {
     "data": {
      "text/plain": [
       "tensor([1., 1., 1., 1., 1.], device='cuda:0', grad_fn=<SqueezeBackward0>)"
      ]
     },
     "execution_count": 148,
     "metadata": {},
     "output_type": "execute_result"
    }
   ],
   "source": [
    "y_preds.squeeze()"
   ]
  },
  {
   "cell_type": "code",
   "execution_count": 149,
   "id": "9289b430-b64f-4c72-b5e4-0f61bab1efa1",
   "metadata": {},
   "outputs": [
    {
     "data": {
      "text/plain": [
       "tensor([1., 0., 1., 0., 1.])"
      ]
     },
     "execution_count": 149,
     "metadata": {},
     "output_type": "execute_result"
    }
   ],
   "source": [
    "y_test[:5]"
   ]
  },
  {
   "cell_type": "markdown",
   "id": "49fd36c9-e9db-4d69-af5d-6ee0bbb3ca69",
   "metadata": {},
   "source": [
    "##Building a training and testing loop"
   ]
  },
  {
   "cell_type": "code",
   "execution_count": 150,
   "id": "0a09e136-7335-4f94-81b3-f747c07508a7",
   "metadata": {},
   "outputs": [
    {
     "name": "stdout",
     "output_type": "stream",
     "text": [
      "Epoch: 0 | Loss: 0.73502, Accuracy: 50.00% | Test loss: 0.73273, Test acc: 50.00%\n",
      "Epoch: 10 | Loss: 0.71197, Accuracy: 50.00% | Test loss: 0.71086, Test acc: 50.00%\n",
      "Epoch: 20 | Loss: 0.70210, Accuracy: 50.00% | Test loss: 0.70152, Test acc: 50.00%\n",
      "Epoch: 30 | Loss: 0.69767, Accuracy: 50.00% | Test loss: 0.69740, Test acc: 50.00%\n",
      "Epoch: 40 | Loss: 0.69556, Accuracy: 50.00% | Test loss: 0.69551, Test acc: 50.00%\n",
      "Epoch: 50 | Loss: 0.69450, Accuracy: 50.00% | Test loss: 0.69463, Test acc: 50.00%\n",
      "Epoch: 60 | Loss: 0.69393, Accuracy: 57.25% | Test loss: 0.69421, Test acc: 56.50%\n",
      "Epoch: 70 | Loss: 0.69360, Accuracy: 56.38% | Test loss: 0.69401, Test acc: 52.50%\n",
      "Epoch: 80 | Loss: 0.69339, Accuracy: 53.37% | Test loss: 0.69392, Test acc: 53.00%\n",
      "Epoch: 90 | Loss: 0.69326, Accuracy: 52.88% | Test loss: 0.69390, Test acc: 51.00%\n"
     ]
    }
   ],
   "source": [
    "torch.manual_seed(42)\n",
    "\n",
    "epochs=100\n",
    "\n",
    "X_train,y_train = X_train.to(device),y_train.to(device)\n",
    "X_test,y_test = X_test.to(device),y_test.to(device)\n",
    "\n",
    "for epoch in range(epochs):\n",
    "    model_0.train()\n",
    "\n",
    "    y_logits = model_0(X_train).squeeze()# squeeze to remove extra `1` dimensions, this won't work unless model and data are on same device \n",
    "    y_pred = torch.round(torch.sigmoid(y_logits)) #turn logits -> pred probs -> pred labls\n",
    "\n",
    "    ## calculate loss/accuracy\n",
    "    loss = loss_fn(y_logits,\n",
    "                   y_train)\n",
    "\n",
    "    acc = accuracy_fn(\n",
    "        y_true=y_train,\n",
    "        y_pred=y_pred\n",
    "    )\n",
    "\n",
    "    ##3 optimizer zero grad\n",
    "    optimizer.zero_grad()\n",
    "\n",
    "    ##4. loss backwards\n",
    "    loss.backward()\n",
    "\n",
    "    ##5. Optimizer Step\n",
    "    optimizer.step()\n",
    "\n",
    "    # Testing \n",
    "    model_0.eval()\n",
    "\n",
    "    with torch.inference_mode():\n",
    "        test_logits = model_0(X_test).squeeze()\n",
    "        test_pred = torch.round(torch.sigmoid(test_logits))\n",
    "        test_loss = loss_fn(test_logits,\n",
    "                            y_test)\n",
    "        test_acc = accuracy_fn(y_true=y_test,\n",
    "                               y_pred=test_pred)\n",
    "\n",
    "    if epoch %10 ==0:\n",
    "        print(f\"Epoch: {epoch} | Loss: {loss:.5f}, Accuracy: {acc:.2f}% | Test loss: {test_loss:.5f}, Test acc: {test_acc:.2f}%\")"
   ]
  },
  {
   "cell_type": "code",
   "execution_count": 151,
   "id": "f6c11f65-44f5-4111-8e25-30414d31b64c",
   "metadata": {},
   "outputs": [],
   "source": [
    "## Make predictions and evaluate the model"
   ]
  },
  {
   "cell_type": "code",
   "execution_count": 152,
   "id": "cb2e629b-f33e-4ed7-bab9-415f9dc90bfa",
   "metadata": {},
   "outputs": [
    {
     "name": "stdout",
     "output_type": "stream",
     "text": [
      "Downloading helper_functions.py\n"
     ]
    }
   ],
   "source": [
    "import requests\n",
    "from pathlib import Path \n",
    "\n",
    "# Download helper functions from Learn PyTorch repo (if not already downloaded)\n",
    "if Path(\"helper_functions.py\").is_file():\n",
    "  print(\"helper_functions.py already exists, skipping download\")\n",
    "else:\n",
    "  print(\"Downloading helper_functions.py\")\n",
    "  request = requests.get(\"https://raw.githubusercontent.com/mrdbourke/pytorch-deep-learning/main/helper_functions.py\")\n",
    "  with open(\"helper_functions.py\", \"wb\") as f:\n",
    "    f.write(request.content)\n",
    "\n",
    "from helper_functions import plot_predictions, plot_decision_boundary"
   ]
  },
  {
   "cell_type": "code",
   "execution_count": null,
   "id": "87bb0bad-4d30-46dc-8c7f-b615c4a3f3e6",
   "metadata": {},
   "outputs": [],
   "source": []
  }
 ],
 "metadata": {
  "kernelspec": {
   "display_name": "Python 3 (ipykernel)",
   "language": "python",
   "name": "python3"
  },
  "language_info": {
   "codemirror_mode": {
    "name": "ipython",
    "version": 3
   },
   "file_extension": ".py",
   "mimetype": "text/x-python",
   "name": "python",
   "nbconvert_exporter": "python",
   "pygments_lexer": "ipython3",
   "version": "3.12.3"
  }
 },
 "nbformat": 4,
 "nbformat_minor": 5
}
